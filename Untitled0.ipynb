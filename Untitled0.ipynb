{
  "nbformat": 4,
  "nbformat_minor": 0,
  "metadata": {
    "colab": {
      "name": "Untitled0.ipynb",
      "provenance": [],
      "collapsed_sections": [],
      "toc_visible": true,
      "authorship_tag": "ABX9TyP8RRg836Mop0RtkYNRUpgE",
      "include_colab_link": true
    },
    "kernelspec": {
      "name": "python3",
      "display_name": "Python 3"
    },
    "language_info": {
      "name": "python"
    }
  },
  "cells": [
    {
      "cell_type": "markdown",
      "metadata": {
        "id": "view-in-github",
        "colab_type": "text"
      },
      "source": [
        "<a href=\"https://colab.research.google.com/github/monalisha2106/monalisha/blob/main/Untitled0.ipynb\" target=\"_parent\"><img src=\"https://colab.research.google.com/assets/colab-badge.svg\" alt=\"Open In Colab\"/></a>"
      ]
    },
    {
      "cell_type": "code",
      "metadata": {
        "colab": {
          "base_uri": "https://localhost:8080/"
        },
        "id": "mto0Zl3vdSGb",
        "outputId": "dee3fecc-fb7b-48e6-d166-197aa9962ca9"
      },
      "source": [
        "li=[12,5,7,3,9,4]\n",
        "print(li)\n",
        "li.remove(7)\n",
        "print(li)\n",
        "li.insert(5,7)\n",
        "print(li)\n",
        "li.remove(9)\n",
        "print(li)\n",
        "li.remove(12)\n",
        "print(li)\n",
        "li.remove(7)\n",
        "print(li)\n",
        "li.remove(5)\n",
        "print(li)\n",
        "li.remove(4)\n",
        "print(li)\n",
        "li.remove(3)\n",
        "print(li)"
      ],
      "execution_count": null,
      "outputs": [
        {
          "output_type": "stream",
          "text": [
            "[12, 5, 7, 3, 9, 4]\n",
            "[12, 5, 3, 9, 4]\n",
            "[12, 5, 3, 9, 4, 7]\n",
            "[12, 5, 3, 4, 7]\n",
            "[5, 3, 4, 7]\n",
            "[5, 3, 4]\n",
            "[3, 4]\n",
            "[3]\n",
            "[]\n"
          ],
          "name": "stdout"
        }
      ]
    },
    {
      "cell_type": "code",
      "metadata": {
        "id": "9u8XtrQMgNT7"
      },
      "source": [
        "from google.colab import drive\n",
        "drive.mount('/content/drive')"
      ],
      "execution_count": null,
      "outputs": []
    }
  ]
}