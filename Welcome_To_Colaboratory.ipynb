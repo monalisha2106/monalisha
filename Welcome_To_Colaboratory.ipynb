{
  "nbformat": 4,
  "nbformat_minor": 0,
  "metadata": {
    "colab": {
      "name": "Welcome To Colaboratory",
      "provenance": [],
      "collapsed_sections": [],
      "toc_visible": true,
      "include_colab_link": true
    },
    "kernelspec": {
      "display_name": "Python 3",
      "name": "python3"
    }
  },
  "cells": [
    {
      "cell_type": "markdown",
      "metadata": {
        "id": "view-in-github",
        "colab_type": "text"
      },
      "source": [
        "<a href=\"https://colab.research.google.com/github/monalisha2106/monalisha/blob/main/Welcome_To_Colaboratory.ipynb\" target=\"_parent\"><img src=\"https://colab.research.google.com/assets/colab-badge.svg\" alt=\"Open In Colab\"/></a>"
      ]
    },
    {
      "cell_type": "code",
      "metadata": {
        "colab": {
          "base_uri": "https://localhost:8080/"
        },
        "id": "SJeUhypWdUm6",
        "outputId": "61b345c8-1665-4ee5-aec3-3b5904d25e99"
      },
      "source": [
        "li=[1,3,5,7,2,8,4]\n",
        "print(li)\n",
        "li.remove(5)\n",
        "print(li)\n",
        "li.remove(7)\n",
        "print(li)\n",
        "li.remove(8)\n",
        "print(li)\n",
        "li.remove(4)\n",
        "print(li)\n",
        "li.remove(3)\n",
        "print(li)\n",
        "li.remove(1)\n",
        "print(li)\n",
        "li.remove(2)\n",
        "print(li)"
      ],
      "execution_count": null,
      "outputs": [
        {
          "output_type": "stream",
          "text": [
            "[1, 3, 5, 7, 2, 8, 4]\n",
            "[1, 3, 7, 2, 8, 4]\n",
            "[1, 3, 2, 8, 4]\n",
            "[1, 3, 2, 4]\n",
            "[1, 3, 2]\n",
            "[1, 2]\n",
            "[2]\n",
            "[]\n"
          ],
          "name": "stdout"
        }
      ]
    }
  ]
}